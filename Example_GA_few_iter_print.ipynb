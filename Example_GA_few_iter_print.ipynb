{
 "cells": [
  {
   "cell_type": "markdown",
   "metadata": {},
   "source": [
    "## Genetic Algorithm Overview\n",
    "Flowchart of the genetic algorithm is shown below. Each step involved in GA has some variations.\n",
    "<img src=\"GAF.png\" alt=\"GAF\" width=\"300\"/>"
   ]
  },
  {
   "cell_type": "markdown",
   "metadata": {},
   "source": [
    "## Practical\n",
    "The y=target is to maximize this equation ASAP:\n",
    "<br>\n",
    "y = w<sub>1</sub>x<sub>1</sub> + w<sub>2</sub>x<sub>2</sub> + w<sub>3</sub>x<sub>3</sub> + w<sub>4</sub>x<sub>4</sub> + w<sub>5</sub>x<sub>5</sub> + w<sub>6</sub>x<sub>6</sub>\n",
    "<br>\n",
    "What are the best values for 6 weights w<sub>1</sub> to w<sub>6</sub>?\n",
    "<br>\n",
    "We are going to use the genetic algorithm for the best possible values after a number of generations."
   ]
  },
  {
   "cell_type": "code",
   "execution_count": 1,
   "metadata": {},
   "outputs": [],
   "source": [
    "import numpy as np\n",
    "import matplotlib.pyplot as plt\n",
    "import GA"
   ]
  },
  {
   "cell_type": "code",
   "execution_count": 2,
   "metadata": {},
   "outputs": [],
   "source": [
    "# Inputs of the equation.\n",
    "equation_inputs = [4,-2,3.5,5,-11,-4.7]"
   ]
  },
  {
   "cell_type": "code",
   "execution_count": 3,
   "metadata": {},
   "outputs": [],
   "source": [
    "# Number of the weights we are looking to optimize.\n",
    "num_weights = len(equation_inputs)\n",
    "\n",
    "# Genetic algorithm parameters - mating pool size, population size\n",
    "sol_per_pop = 8\n",
    "num_parents_mating = 4"
   ]
  },
  {
   "cell_type": "code",
   "execution_count": 4,
   "metadata": {},
   "outputs": [
    {
     "name": "stdout",
     "output_type": "stream",
     "text": [
      "[[ 3.6597158  -3.31845881 -0.56936487 -2.6628049   3.99387812  2.61362239]\n",
      " [-2.01068392  2.33796345  0.38596159 -2.75901837  0.47852978 -1.98024672]\n",
      " [-1.72970834  1.17893266 -2.91674312 -1.7018825   1.6943371  -0.87685415]\n",
      " [ 3.29682578  1.4023225   2.75886187  2.73535153 -0.38998895 -1.24159343]\n",
      " [-0.35656182 -0.15965772  1.45216966  1.93024646  3.35855437 -3.13425222]\n",
      " [-1.70554215 -3.59461246  1.60499271  3.8451219  -0.77863486  0.31457885]\n",
      " [ 2.5276552   2.96448045  3.55242268  1.34474237  2.41944395  1.19633619]\n",
      " [-2.565797   -3.73606158  1.64268189  2.45178461  0.95382516 -3.66221093]]\n"
     ]
    }
   ],
   "source": [
    "# Defining the population size.\n",
    "# The population will have sol_per_pop chromosome where each chromosome has num_weights genes.\n",
    "pop_size = (sol_per_pop,num_weights)\n",
    "# Creating the initial population.\n",
    "new_population = np.random.uniform(low=-4.0, high=4.0, size=pop_size)\n",
    "print(new_population)"
   ]
  },
  {
   "cell_type": "markdown",
   "metadata": {},
   "source": [
    "<img src=\"crossover and mutation.png\" alt=\"GAF\" height=\"300\"/>"
   ]
  },
  {
   "cell_type": "code",
   "execution_count": 5,
   "metadata": {},
   "outputs": [
    {
     "name": "stdout",
     "output_type": "stream",
     "text": [
      "\n",
      "Generation # 1\n",
      "\n",
      "Fitness values: \n",
      " [-50.24770532 -21.11955688 -42.51120568  43.84079983  -8.58621842\n",
      "  32.29660319  -8.89781245  21.93755948]\n",
      "\n",
      "Selected parents: \n",
      " [[ 3.29682578  1.4023225   2.75886187  2.73535153 -0.38998895 -1.24159343]\n",
      " [-1.70554215 -3.59461246  1.60499271  3.8451219  -0.77863486  0.31457885]\n",
      " [-2.565797   -3.73606158  1.64268189  2.45178461  0.95382516 -3.66221093]\n",
      " [-0.35656182 -0.15965772  1.45216966  1.93024646  3.35855437 -3.13425222]]\n",
      "\n",
      "Crossover result: \n",
      " [[ 3.29682578  1.4023225   2.75886187  3.8451219  -0.77863486  0.31457885]\n",
      " [-1.70554215 -3.59461246  1.60499271  2.45178461  0.95382516 -3.66221093]\n",
      " [-2.565797   -3.73606158  1.64268189  1.93024646  3.35855437 -3.13425222]\n",
      " [-0.35656182 -0.15965772  1.45216966  2.73535153 -0.38998895 -1.24159343]]\n",
      "\n",
      "Mutation result: \n",
      " [[ 3.29682578  1.4023225   2.75886187  3.8451219  -0.36969456  0.31457885]\n",
      " [-1.70554215 -3.59461246  1.60499271  2.45178461  1.94253511 -3.66221093]\n",
      " [-2.565797   -3.73606158  1.64268189  1.93024646  4.21001021 -3.13425222]\n",
      " [-0.35656182 -0.15965772  1.45216966  2.73535153 -1.10778513 -1.24159343]]\n",
      "\n",
      "Best result after generation # 1 :  43.84079983351011\n",
      "\n",
      "\n",
      "\n",
      "Generation # 1000\n",
      "\n",
      "Fitness values: \n",
      " [4169.98032324 4169.51904091 4168.93969266 4166.74267112 4166.08456976\n",
      " 4166.93206647 4175.70235229 4159.90791331]\n",
      "\n",
      "Selected parents: \n",
      " [[   3.29682578    1.4023225     2.75886187    2.73535153 -376.01376644\n",
      "    -1.24159343]\n",
      " [   3.29682578    1.4023225     2.75886187    2.73535153 -375.49358198\n",
      "    -1.24159343]\n",
      " [   3.29682578    1.4023225     2.75886187    2.73535153 -375.45164723\n",
      "    -1.24159343]\n",
      " [   3.29682578    1.4023225     2.75886187    2.73535153 -375.3989792\n",
      "    -1.24159343]]\n",
      "\n",
      "Crossover result: \n",
      " [[   3.29682578    1.4023225     2.75886187    2.73535153 -375.49358198\n",
      "    -1.24159343]\n",
      " [   3.29682578    1.4023225     2.75886187    2.73535153 -375.45164723\n",
      "    -1.24159343]\n",
      " [   3.29682578    1.4023225     2.75886187    2.73535153 -375.3989792\n",
      "    -1.24159343]\n",
      " [   3.29682578    1.4023225     2.75886187    2.73535153 -376.01376644\n",
      "    -1.24159343]]\n",
      "\n",
      "Mutation result: \n",
      " [[   3.29682578    1.4023225     2.75886187    2.73535153 -374.72042344\n",
      "    -1.24159343]\n",
      " [   3.29682578    1.4023225     2.75886187    2.73535153 -375.78040889\n",
      "    -1.24159343]\n",
      " [   3.29682578    1.4023225     2.75886187    2.73535153 -374.87070856\n",
      "    -1.24159343]\n",
      " [   3.29682578    1.4023225     2.75886187    2.73535153 -376.72689862\n",
      "    -1.24159343]]\n",
      "\n",
      "Best result after generation # 1000 :  4175.702352285614\n",
      "\n",
      "\n"
     ]
    }
   ],
   "source": [
    "best_outputs = []\n",
    "num_generations = 1000\n",
    "for generation in range(num_generations):\n",
    "    if (generation == 0) or (generation == 999):\n",
    "        print(\"\\nGeneration #\", generation+1)\n",
    "    \n",
    "    # Measuring the fitness of each chromosome in the population.\n",
    "    fitness = GA.cal_pop_fitness(equation_inputs, new_population)\n",
    "    if (generation == 0) or (generation == 999):\n",
    "        print(\"\\nFitness values: \\n\", fitness)\n",
    "    \n",
    "    # Selecting the best parents in the population for mating.\n",
    "    parents = GA.select_mating_pool(new_population, fitness, num_parents_mating)\n",
    "    if (generation == 0) or (generation == 999):\n",
    "        print(\"\\nSelected parents: \\n\", parents)\n",
    "    \n",
    "    # Generating next generation using crossover.\n",
    "    offspring_crossover = GA.crossover(parents, offspring_size=(pop_size[0]-parents.shape[0], num_weights))\n",
    "    if (generation == 0) or (generation == 999):\n",
    "        print(\"\\nCrossover result: \\n\", offspring_crossover)\n",
    "    \n",
    "    # Adding some variations to the offspring using mutation.\n",
    "    offspring_mutation = GA.mutation(offspring_crossover)\n",
    "    if (generation == 0) or (generation == 999):\n",
    "        print(\"\\nMutation result: \\n\", offspring_mutation)\n",
    "    \n",
    "    best_outputs.append(np.max(np.sum(new_population*equation_inputs, axis=1)))\n",
    "    # The best result in the current iteration.\n",
    "    if (generation == 0) or (generation == 999):\n",
    "        print(\"\\nBest result after generation #\", generation+1, \": \", np.max(np.sum(new_population*equation_inputs, axis=1)))\n",
    "        print(\"\\n\")\n",
    "\n",
    "    # Creating the new population based on the parents and offspring.\n",
    "    new_population[0:parents.shape[0], :] = parents\n",
    "    new_population[parents.shape[0]:, :] = offspring_mutation"
   ]
  },
  {
   "cell_type": "code",
   "execution_count": 6,
   "metadata": {},
   "outputs": [
    {
     "name": "stdout",
     "output_type": "stream",
     "text": [
      "Best solution:  [[[   3.29682578    1.4023225     2.75886187    2.73535153 -376.72689862\n",
      "     -1.24159343]]]\n",
      "Best solution fitness:  [4183.5468062]\n"
     ]
    }
   ],
   "source": [
    "# Getting the best solution after iterating finishing all generations.\n",
    "# At first, the fitness is calculated for each solution in the final generation.\n",
    "fitness = GA.cal_pop_fitness(equation_inputs, new_population)\n",
    "# Then return the index of that solution corresponding to the best fitness.\n",
    "best_match_idx = np.where(fitness == np.max(fitness))\n",
    "\n",
    "print(\"Best solution: \", new_population[best_match_idx, :])\n",
    "print(\"Best solution fitness: \", fitness[best_match_idx])"
   ]
  },
  {
   "cell_type": "code",
   "execution_count": 7,
   "metadata": {},
   "outputs": [
    {
     "data": {
      "image/png": "[encoded data removed]",
      "text/plain": [
       "<Figure size 432x288 with 1 Axes>"
      ]
     },
     "metadata": {},
     "output_type": "display_data"
    }
   ],
   "source": [
    "plt.plot(best_outputs)\n",
    "plt.xlabel(\"Iteration\")\n",
    "plt.ylabel(\"Fitness\")\n",
    "plt.show()"
   ]
  },
  {
   "cell_type": "code",
   "execution_count": null,
   "metadata": {},
   "outputs": [],
   "source": []
  }
 ],
 "metadata": {
  "kernelspec": {
   "display_name": "Python 3",
   "language": "python",
   "name": "python3"
  },
  "language_info": {
   "codemirror_mode": {
    "name": "ipython",
    "version": 3
   },
   "file_extension": ".py",
   "mimetype": "text/x-python",
   "name": "python",
   "nbconvert_exporter": "python",
   "pygments_lexer": "ipython3",
   "version": "3.5.4"
  }
 },
 "nbformat": 4,
 "nbformat_minor": 2
}
